{
 "cells": [
  {
   "cell_type": "code",
   "execution_count": 2,
   "metadata": {},
   "outputs": [],
   "source": [
    "import os\n",
    "import numpy as np\n",
    "from tqdm import tqdm\n",
    "import openslide\n",
    "import random\n",
    "from PIL import Image\n",
    "from collections import defaultdict\n",
    "import cv2"
   ]
  },
  {
   "cell_type": "code",
   "execution_count": 3,
   "metadata": {},
   "outputs": [],
   "source": [
    "tile_size = 192\n",
    "\n",
    "out_dir = \"/home/smedin7/data/KDM/new_mosaics\"\n",
    "image_folder = '/home/smedin7/data/KDM/urkunina_hun_slides/slides_hun'\n",
    "save_path_patches = \"/home/smedin7/data/KDM/new_pretraining_patches\"\n",
    "save_path = \"/home/smedin7/data/KDM/new_patches\""
   ]
  },
  {
   "cell_type": "code",
   "execution_count": null,
   "metadata": {},
   "outputs": [],
   "source": [
    "def is_tissue_patch(image_array, white_threshold=0.9):\n",
    "    \"\"\"\n",
    "    Determines if a patch contains sufficient tissue based on its 'whiteness'.\n",
    "    \"\"\"\n",
    "    # Sum up all the pixel values in the patch\n",
    "    total_pixel_sum = image_array.sum()\n",
    "\n",
    "    # Calculate the maximum possible sum for a completely white patch\n",
    "    max_pixel_sum = 255 * 3 * image_array.shape[0] * image_array.shape[1]\n",
    "\n",
    "    # Calculate the 'whiteness' ratio of the patch\n",
    "    whiteness_ratio = total_pixel_sum / max_pixel_sum\n",
    "\n",
    "    return whiteness_ratio < white_threshold"
   ]
  },
  {
   "cell_type": "markdown",
   "metadata": {},
   "source": [
    "HUN"
   ]
  },
  {
   "cell_type": "code",
   "execution_count": 11,
   "metadata": {},
   "outputs": [
    {
     "name": "stderr",
     "output_type": "stream",
     "text": [
      "100%|██████████| 57/57 [02:22<00:00,  2.50s/it]\n"
     ]
    }
   ],
   "source": [
    "def extract_patches_from_slide(slide_path, level, patch_size, stride):\n",
    "    patches = []\n",
    "    slide = openslide.OpenSlide(slide_path)\n",
    "    level_dimension = slide.level_dimensions[level]\n",
    "    downsample = slide.level_downsamples[level]\n",
    "\n",
    "    xs = np.arange(0, level_dimension[0] - patch_size, stride)\n",
    "    ys = np.arange(0, level_dimension[1] - patch_size, stride)\n",
    "    random.shuffle(xs)\n",
    "    random.shuffle(ys)\n",
    "\n",
    "    for x in xs:\n",
    "        for y in ys:\n",
    "            patch = slide.read_region((int(x * downsample), int(y * downsample)), level, (patch_size, patch_size))\n",
    "            patch_array = np.array(patch)[:, :, :3]\n",
    "            if is_tissue_patch(patch_array):\n",
    "                patches.append(patch_array)\n",
    "            if len(patches) >= 18:\n",
    "                return patches\n",
    "    return patches\n",
    "\n",
    "def create_mosaic(patches):\n",
    "    mosaic = np.zeros((1152, 1152, 3), dtype=np.uint8)\n",
    "    for i in range(6):\n",
    "        for j in range(6):\n",
    "            mosaic[i*192:(i+1)*192, j*192:(j+1)*192] = patches.pop()\n",
    "    return mosaic\n",
    "\n",
    "out_dir = \"/home/smedin7/data/KDM/mosaicsv2\" \n",
    "image_folder = \"/home/smedin7/data/KDM/urkunina_hun_slides/slides_hun\" \n",
    "tile_size = 192 \n",
    "wsis = [os.path.join(image_folder, f) for f in os.listdir(image_folder) if os.path.isfile(os.path.join(image_folder, f)) and not f.startswith('.DS_Store')]\n",
    "patient_folders = defaultdict(list)\n",
    "\n",
    "for wsi in wsis:\n",
    "    patient_id = os.path.basename(wsi)[:4]\n",
    "    patient_folders[patient_id].append(wsi)\n",
    "\n",
    "for patient_id, slides in tqdm(patient_folders.items()):\n",
    "    patches = []\n",
    "    for slide in slides:\n",
    "        patches += extract_patches_from_slide(slide, 1, tile_size, tile_size//2)\n",
    "        if len(patches) >= 36:\n",
    "            break\n",
    "\n",
    "    if len(patches) >= 36:\n",
    "        mosaic_img = Image.fromarray(create_mosaic(patches))\n",
    "        mosaic_img.save(os.path.join(out_dir, f\"{patient_id}.png\"))"
   ]
  },
  {
   "cell_type": "markdown",
   "metadata": {},
   "source": [
    "Urkunina"
   ]
  },
  {
   "cell_type": "code",
   "execution_count": 13,
   "metadata": {},
   "outputs": [
    {
     "name": "stderr",
     "output_type": "stream",
     "text": [
      "  0%|          | 0/71 [00:00<?, ?it/s]"
     ]
    },
    {
     "name": "stderr",
     "output_type": "stream",
     "text": [
      "100%|██████████| 71/71 [03:21<00:00,  2.84s/it]"
     ]
    },
    {
     "name": "stdout",
     "output_type": "stream",
     "text": [
      "Not processed patient IDs: []\n"
     ]
    },
    {
     "name": "stderr",
     "output_type": "stream",
     "text": [
      "\n"
     ]
    }
   ],
   "source": [
    "def extract_patches_from_slide(slide_path, level, patch_size, stride):\n",
    "    patches = []\n",
    "    slide = openslide.OpenSlide(slide_path)\n",
    "    level_dimension = slide.level_dimensions[level]\n",
    "    downsample = slide.level_downsamples[level]\n",
    "\n",
    "    xs = np.arange(0, level_dimension[0] - patch_size, stride)\n",
    "    ys = np.arange(0, level_dimension[1] - patch_size, stride)\n",
    "    random.shuffle(xs)\n",
    "    random.shuffle(ys)\n",
    "\n",
    "    for x in xs:\n",
    "        for y in ys:\n",
    "            patch = slide.read_region((int(x * downsample), int(y * downsample)), level, (patch_size, patch_size))\n",
    "            patch_array = np.array(patch)[:, :, :3]\n",
    "            if is_tissue_patch(patch_array):\n",
    "                patches.append(patch_array)\n",
    "            if len(patches) >= 36: \n",
    "                return patches\n",
    "    return patches\n",
    "\n",
    "def create_mosaic(patches):\n",
    "    mosaic = np.zeros((1152, 1152, 3), dtype=np.uint8)\n",
    "    for i in range(6):\n",
    "        for j in range(6):\n",
    "            mosaic[i*192:(i+1)*192, j*192:(j+1)*192] = patches.pop()\n",
    "    return mosaic\n",
    "\n",
    "out_dir = \"/home/smedin7/data/KDM/mosaicsv2\"\n",
    "image_folder = \"/home/smedin7/data/KDM/urkunina_hun_slides/slides_urkunina\"\n",
    "tile_size = 192 \n",
    "\n",
    "not_processed = []\n",
    "\n",
    "wsis = [os.path.join(image_folder, f) for f in os.listdir(image_folder) if os.path.isfile(os.path.join(image_folder, f)) and not f.startswith('.DS_Store')]\n",
    "\n",
    "for wsi in tqdm(wsis):\n",
    "    patient_id = os.path.basename(wsi)[:4]\n",
    "    patches = extract_patches_from_slide(wsi, 1, tile_size, tile_size//2)\n",
    "    if len(patches) >= 36:\n",
    "        mosaic_img = Image.fromarray(create_mosaic(patches))\n",
    "        mosaic_img.save(os.path.join(out_dir, f\"{patient_id}.png\"))\n",
    "    else:\n",
    "        # Append the patient_id to the not_processed list\n",
    "        not_processed.append(patient_id)\n",
    "\n",
    "# Print or save the list of not processed patient IDs\n",
    "print(\"Not processed patient IDs:\", not_processed)"
   ]
  },
  {
   "cell_type": "code",
   "execution_count": null,
   "metadata": {},
   "outputs": [],
   "source": []
  }
 ],
 "metadata": {
  "kernelspec": {
   "display_name": "qkm",
   "language": "python",
   "name": "python3"
  },
  "language_info": {
   "codemirror_mode": {
    "name": "ipython",
    "version": 3
   },
   "file_extension": ".py",
   "mimetype": "text/x-python",
   "name": "python",
   "nbconvert_exporter": "python",
   "pygments_lexer": "ipython3",
   "version": "3.10.13"
  },
  "orig_nbformat": 4
 },
 "nbformat": 4,
 "nbformat_minor": 2
}
